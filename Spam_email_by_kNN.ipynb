{
 "cells": [
  {
   "cell_type": "markdown",
   "metadata": {
    "colab_type": "text",
    "id": "view-in-github"
   },
   "source": [
    "<a href=\"https://colab.research.google.com/github/p3dm/MachineLearning-Project-II/blob/main/Spam_email_by_kNN.ipynb\" target=\"_parent\"><img src=\"https://colab.research.google.com/assets/colab-badge.svg\" alt=\"Open In Colab\"/></a>"
   ]
  },
  {
   "cell_type": "markdown",
   "metadata": {
    "id": "Wf5KrEb6vrkR"
   },
   "source": [
    "<div class=\"markdown-google-sans\">\n",
    "  <h1>Welcome to Colab!</h1>\n",
    "</div>\n",
    "\n",
    "<div class=\"markdown-google-sans\">\n",
    "  <h2>Explore the Gemini API</h2>\n",
    "  <p>The Gemini API gives you access to Gemini models created by Google DeepMind. Gemini models are built from the ground up to be multimodal, so you can reason seamlessly across text, images, code, and audio.\n",
    "  </p>\n",
    "\n",
    "  <strong>How to get started?</strong>\n",
    "    <ol>\n",
    "      <li><msg desc=\"First bullet point of a list explaining how to get started with the Gemini API, this one tells to visit AI studio and log-in with a Google account.\">Go to <a href=\"https://aistudio.google.com/\">Google AI Studio</a> and log in with your Google account.</msg></li>\n",
    "      <li><msg desc=\"Second bullet point of a list explaining how to get started with the Gemini API, this one tells to create an API key on https://aistudio.google.com/app/apikey.\"><a href=\"https://aistudio.google.com/app/apikey\">Create an API key</a>.</msg></li>\n",
    "      <li><msg desc=\"Third and last bullet point of a list explaining how to get started with the Gemini API, this one tells to open a python or rest quickstart to start playing with the Gemini API.\">Use a quickstart for <a href=\"https://colab.research.google.com/github/google-gemini/cookbook/blob/main/quickstarts/Get_started.ipynb\">Python</a>, or call the REST API using <a href=\"https://colab.research.google.com/github/google-gemini/cookbook/blob/main/quickstarts/rest/Prompting_REST.ipynb\">curl</a>.</msg></li>\n",
    "      </ol>\n",
    "\n",
    "  <strong>Discover Gemini's advanced capabilities</strong>\n",
    "    <ul>\n",
    "      <li><msg desc=\"Link to the Live API quickstart and its live demo on AI Studio.\">Discover the <a href=\"https://colab.research.google.com/github/google-gemini/cookbook/blob/main/quickstarts/Get_started_LiveAPI.ipynb\">multimodal Live API</a> (demo <a href=\"https://aistudio.google.com/live\">here</a>).</msg></li>\n",
    "      <li><msg desc=\"Link to the Spatial understanding quickstart and its 3d version.\">Learn how to <a href=\"https://colab.research.google.com/github/google-gemini/cookbook/blob/main/quickstarts/Spatial_understanding.ipynb\">analyze images and detect items in your pictures</a> using Gemini (bonus, there's a <a href=\"https://colab.research.google.com/github/google-gemini/cookbook/blob/main/examples/Spatial_understanding_3d.ipynb\">3D version</a> as well!).</msg></li>\n",
    "      <li><msg desc=\"Link to the Thinking model quickstart.\">Unlock the power of <a href=\"https://colab.research.google.com/github/google-gemini/cookbook/blob/main/quickstarts/Get_started_thinking.ipynb\">Gemini thinking model</a>, capable of solving complex task with its inner thoughts.</msg></li>\n",
    "    </ul>\n",
    "      \n",
    "  <strong>Explore complex use cases</strong>\n",
    "    <ul>\n",
    "      <li><msg desc=\"Link to the search grounding example, using Gemini and google search to gather info on companies.\">Use <a href=\"https://colab.research.google.com/github/google-gemini/cookbook/blob/main/examples/Search_grounding_for_research_report.ipynb\">Gemini grounding capabilities</a> to create a report on a company based on what the model can find on internet.</msg></li>\n",
    "      <li><msg desc=\"Link to the PDF parsing example, using Gemini multimodal and structured output capabilities to parse invoices and forms.\">Extract <a href=\"https://colab.research.google.com/github/google-gemini/cookbook/blob/main/examples/Pdf_structured_outputs_on_invoices_and_forms.ipynb\">invoices and form data from PDF</a> in a structured way.</msg></li>\n",
    "      <li><msg desc=\"Link to the Book illustration example, using Gemini and Imagen to generate illustions for an open-source book.\">Create <a href=\"https://colab.research.google.com/github/google-gemini/cookbook/blob/main/examples/Book_illustration.ipynb\">illustration based on a whole book</a> using Gemini large context window and Imagen.</msg></li>\n",
    "    </ul>\n",
    "  <p><msg desc=\"Link to the cookbook and the Gemini API documentation so that users can learn more about the API.\">To learn more, check out the <a href=\"https://github.com/google-gemini/cookbook\">Gemini cookbook</a> or visit the <a href=\"https://ai.google.dev/docs/\">Gemini API documentation</a>.</msg>\n",
    "  </p>\n",
    "</div>\n"
   ]
  },
  {
   "cell_type": "markdown",
   "metadata": {
    "id": "5fCEDCU_qrC0"
   },
   "source": [
    "<div class=\"markdown-google-sans\">\n",
    "  <h2>What is Colab?</h2>\n",
    "</div>\n",
    "\n",
    "Colab, or \"Colaboratory\", allows you to write and execute Python in your browser, with\n",
    "- Zero configuration required\n",
    "- Access to GPUs free of charge\n",
    "- Easy sharing\n",
    "\n",
    "Whether you're a **student**, a **data scientist** or an **AI researcher**, Colab can make your work easier. Watch [Introduction to Colab](https://www.youtube.com/watch?v=inN8seMm7UI) or [Colab Features You May Have Missed](https://www.youtube.com/watch?v=rNgswRZ2C1Y) to learn more, or just get started below!"
   ]
  },
  {
   "cell_type": "markdown",
   "metadata": {
    "id": "hNud3TI2yfLY"
   },
   "source": [
    "# K_NN\n"
   ]
  },
  {
   "cell_type": "markdown",
   "metadata": {
    "id": "5dtT3IeCRCpd"
   },
   "source": [
    "k_Neareast Neighbour algorithm"
   ]
  },
  {
   "cell_type": "code",
   "execution_count": 4,
   "metadata": {
    "id": "O7gxQtGIRMHy"
   },
   "outputs": [],
   "source": [
    "import numpy as np\n",
    "from collections import Counter\n",
    "from sklearn import datasets\n",
    "from sklearn.model_selection import train_test_split\n",
    "from sklearn.preprocessing import StandardScaler\n",
    "\n",
    "def euclidean_distance(point1, point2) :\n",
    "  return np.sqrt(np.sum((np.array(point1)- np.array(point2))**2))\n",
    "def euclidean_distance1(point1, point2) :\n",
    "  diff = 0\n",
    "  for i in range(len(point1)):\n",
    "    diff += (point1[i] - point2[i])**2\n",
    "  return diff**0.5\n",
    "\n",
    "def manhattan_distance(point1, point2):\n",
    "  diff = 0\n",
    "  for i in range(len(point1)):\n",
    "    diff += abs(point1[i]-point2[i])\n",
    "  return diff\n",
    "\n",
    "def knn_predict(training_data, training_label, test_point, k):\n",
    "  distances=[]\n",
    "  for i in range(len(training_data)):\n",
    "    dist = manhattan_distance(test_point, training_data[i])\n",
    "    distances.append((dist, training_label[i]))\n",
    "  distances.sort(key = lambda x: x[0])\n",
    "\n",
    "  weighted_votes = {}\n",
    "  for dist, label in distances[:k]:\n",
    "    weight = 1 / (dist + 1e-9)\n",
    "    weighted_votes[label] = weighted_votes.get(label,0) + weight\n",
    "  return max(weighted_votes, key=weighted_votes.get)\n",
    "\n",
    "\n"
   ]
  },
  {
   "cell_type": "markdown",
   "metadata": {
    "id": "m8O90_JXJ63U"
   },
   "source": [
    "Decision tree"
   ]
  },
  {
   "cell_type": "markdown",
   "metadata": {
    "id": "JC8NKWO3yScN"
   },
   "source": [
    "\n",
    "# Decision tree\n"
   ]
  },
  {
   "cell_type": "code",
   "execution_count": 63,
   "metadata": {
    "id": "-9Q1osIeyb8V"
   },
   "outputs": [],
   "source": [
    "from graphviz import Digraph\n",
    "class Node:\n",
    "    def __init__(self, feature=None, threshold=None, left=None, right=None, value=None):\n",
    "        self.feature = feature\n",
    "        self.threshold = threshold\n",
    "        self.left = left\n",
    "        self.right = right\n",
    "        self.value = value\n",
    "\n",
    "\n",
    "def gini_impurity(y):\n",
    "    class_counts = {}\n",
    "    for label in y:\n",
    "        if label in class_counts:\n",
    "            class_counts[label] += 1\n",
    "        else:\n",
    "            class_counts[label] = 1\n",
    "    total_samples = len(y)\n",
    "    probabilities = [count / total_samples for count in class_counts.values()]\n",
    "    return 1 - sum(p * p for p in probabilities)\n",
    "\n",
    "\n",
    "def find_best_split(X, y):\n",
    "    best_feature, best_threshold = None, None\n",
    "    best_gini = float('inf')\n",
    "    n_features = len(X[0]) if X else 0\n",
    "\n",
    "    for feature in range(n_features):\n",
    "        thresholds = sorted(set(row[feature] for row in X))\n",
    "        for threshold in thresholds:\n",
    "            left_X, left_y = [], []\n",
    "            right_X, right_y = [], []\n",
    "            for i in range(len(X)):\n",
    "                if X[i][feature] <= threshold:\n",
    "                    left_X.append(X[i])\n",
    "                    left_y.append(y[i])\n",
    "                else:\n",
    "                    right_X.append(X[i])\n",
    "                    right_y.append(y[i])\n",
    "            if not left_y or not right_y:\n",
    "                continue\n",
    "            gini_left = gini_impurity(left_y)\n",
    "            gini_right = gini_impurity(right_y)\n",
    "            weighted_gini = (len(left_y) * gini_left + len(right_y) * gini_right) / len(y)\n",
    "            if weighted_gini < best_gini:\n",
    "                best_gini = weighted_gini\n",
    "                best_feature = feature\n",
    "                best_threshold = threshold\n",
    "    return best_feature, best_threshold\n",
    "\n",
    "\n",
    "class DecisionTreeClassifier1:\n",
    "    def __init__(self, max_depth=None, min_samples_split=2):\n",
    "        self.max_depth = max_depth\n",
    "        self.min_samples_split = min_samples_split\n",
    "        self.root = None\n",
    "\n",
    "    def fit(self, X, y, depth=0):\n",
    "        if (self.max_depth is not None and depth >= self.max_depth) or \\\n",
    "           len(y) < self.min_samples_split or \\\n",
    "           len(set(y)) == 1:\n",
    "            most_common_class = max(set(y), key=y.count)\n",
    "            return Node(value=most_common_class)\n",
    "\n",
    "        feature, threshold = find_best_split(X, y)\n",
    "        if feature is None:\n",
    "            most_common_class = max(set(y), key=y.count)\n",
    "            return Node(value=most_common_class)\n",
    "\n",
    "        left_X, left_y = [], []\n",
    "        right_X, right_y = [], []\n",
    "        for i in range(len(X)):\n",
    "            if X[i][feature] <= threshold:\n",
    "                left_X.append(X[i])\n",
    "                left_y.append(y[i])\n",
    "            else:\n",
    "                right_X.append(X[i])\n",
    "                right_y.append(y[i])\n",
    "\n",
    "        left_node = self.fit(left_X, left_y, depth + 1)\n",
    "        right_node = self.fit(right_X, right_y, depth + 1)\n",
    "        return Node(feature=feature, threshold=threshold, left=left_node, right=right_node)\n",
    "\n",
    "    def train(self, X, y):\n",
    "         self.root = self.fit(X, y)\n",
    "\n",
    "    def predict_single(self, x, node, path=None):\n",
    "        if path is None:\n",
    "            path = []\n",
    "        path.append(node)\n",
    "        if node.value is not None:\n",
    "            return node.value, path\n",
    "        if x[node.feature] <= node.threshold:\n",
    "            return self.predict_single(x, node.left, path)\n",
    "        else:\n",
    "            return self.predict_single(x, node.right, path)\n",
    "\n",
    "    def predict(self, X):\n",
    "        return [self.predict_single(x, self.root)[0] for x in X]\n",
    "\n",
    "    def plot_tree(self, feature_names=None, class_names=None):\n",
    "        dot = Digraph(comment='Decision Tree')\n",
    "\n",
    "        def add_nodes_edges(node, dot, node_id=0):\n",
    "            node_name = f'node{node_id}'\n",
    "            if node.value is not None:\n",
    "                label = f'Class: {class_names[node.value] if class_names else node.value}'\n",
    "                dot.node(node_name, label, shape='box', style='filled', fillcolor='lightgreen')\n",
    "            else:\n",
    "                feature = feature_names[node.feature] if feature_names else f'Feature {node.feature}'\n",
    "                label = f'{feature} <= {node.threshold:.2f}'\n",
    "                dot.node(node_name, label, shape='ellipse', style='filled', fillcolor='lightblue')\n",
    "\n",
    "            next_id = node_id + 1\n",
    "            if node.left:\n",
    "                left_id = next_id\n",
    "                dot.edge(node_name, f'node{left_id}', label='True')\n",
    "                next_id = add_nodes_edges(node.left, dot, left_id)\n",
    "            if node.right:\n",
    "                right_id = next_id\n",
    "                dot.edge(node_name, f'node{right_id}', label='False')\n",
    "                next_id = add_nodes_edges(node.right, dot, right_id)\n",
    "            return next_id\n",
    "\n",
    "        add_nodes_edges(self.root, dot)\n",
    "        return dot"
   ]
  },
  {
   "cell_type": "markdown",
   "metadata": {},
   "source": [
    "# Naive Bayes"
   ]
  },
  {
   "cell_type": "markdown",
   "metadata": {},
   "source": [
    "Gaussian Naive Bayes"
   ]
  },
  {
   "cell_type": "code",
   "execution_count": 60,
   "metadata": {},
   "outputs": [],
   "source": [
    "import math\n",
    "from collections import Counter\n",
    "class NaiveBayesClassifier:\n",
    "    def __init__(self):\n",
    "        self.class_priors = {}\n",
    "        self.feature_likelihoods = {}\n",
    "    def fit(self, X, y):\n",
    "        self.class_priors = Counter(y)\n",
    "        self.feature_likelihoods = {}\n",
    "        for feature_index in range(len(X[0])):\n",
    "            self.feature_likelihoods[feature_index] = {}\n",
    "            for class_label in self.class_priors:\n",
    "                class_samples = [X[i][feature_index] for i in range(len(X)) if y[i] == class_label]\n",
    "                mean = sum(class_samples) / len(class_samples)\n",
    "                variance = sum((x - mean) ** 2 for x in class_samples) / len(class_samples) + 1e-9  \n",
    "                self.feature_likelihoods[feature_index][class_label] = (mean, variance)\n",
    "    def predict(self, X):\n",
    "        predictions = []\n",
    "        for x in X:\n",
    "            class_scores = {}\n",
    "            for class_label, prior in self.class_priors.items():\n",
    "                score = math.log(prior / len(self.class_priors.values()))\n",
    "                for feature_index in range(len(x)):\n",
    "                    mean, variance = self.feature_likelihoods[feature_index][class_label]\n",
    "                    score += -0.5 * math.log(2 * math.pi * variance) - ((x[feature_index] - mean) ** 2) / (2 * variance)\n",
    "                class_scores[class_label] = score\n",
    "            predicted_class = max(class_scores, key=class_scores.get)\n",
    "            predictions.append(predicted_class)\n",
    "        return predictions\n",
    "                \n"
   ]
  },
  {
   "cell_type": "code",
   "execution_count": 61,
   "metadata": {},
   "outputs": [],
   "source": [
    "import math\n",
    "from collections import Counter, defaultdict\n",
    "\n",
    "class MultinomialNaiveBayesClassifier:\n",
    "    def __init__(self):\n",
    "        self.class_priors = {}\n",
    "        self.feature_likelihoods = {}\n",
    "        self.n_features = 0\n",
    "        self.classes = []\n",
    "    def fit(self, X, y):\n",
    "        self.classes = list(set(y))\n",
    "        self.n_features = len(X[0])\n",
    "        class_counts = Counter(y)\n",
    "        total_count = len(y)\n",
    "        self.class_priors = {cls: class_counts[cls] / total_count for cls in self.classes}\n",
    "        self.feature_likelihoods = {cls: [0] * self.n_features for cls in self.classes}\n",
    "        feature_counts = {cls: [0] * self.n_features for cls in self.classes}\n",
    "        class_feature_sum = {cls: 0 for cls in self.classes}\n",
    "        for xi, label in zip(X, y):\n",
    "            for j in range(self.n_features):\n",
    "                feature_counts[label][j] += xi[j]\n",
    "                class_feature_sum[label] += xi[j]\n",
    "        for cls in self.classes:\n",
    "            self.feature_likelihoods[cls] = [\n",
    "                (feature_counts[cls][j] + 1) / (class_feature_sum[cls] + self.n_features)\n",
    "                for j in range(self.n_features)]\n",
    "    def predict(self, X):\n",
    "        predictions = []\n",
    "        for x in X:\n",
    "            class_scores = {}\n",
    "            for cls in self.classes:  \n",
    "                score = math.log(self.class_priors[cls])\n",
    "                for j in range(self.n_features):\n",
    "                    prob = self.feature_likelihoods[cls][j]\n",
    "                    score += x[j] * math.log(prob)\n",
    "                class_scores[cls] = score\n",
    "            predicted_class = max(class_scores, key=class_scores.get)\n",
    "            predictions.append(predicted_class)\n",
    "        return predictions\n",
    "                "
   ]
  },
  {
   "cell_type": "markdown",
   "metadata": {
    "id": "EXAJHc71rrub"
   },
   "source": [
    "# Spam email"
   ]
  },
  {
   "cell_type": "code",
   "execution_count": 16,
   "metadata": {
    "colab": {
     "base_uri": "https://localhost:8080/",
     "height": 206
    },
    "id": "PfwPZaYPrw-V",
    "outputId": "d8090a24-84f7-4911-89cc-f15e6e9931fd"
   },
   "outputs": [
    {
     "data": {
      "text/html": [
       "<div>\n",
       "<style scoped>\n",
       "    .dataframe tbody tr th:only-of-type {\n",
       "        vertical-align: middle;\n",
       "    }\n",
       "\n",
       "    .dataframe tbody tr th {\n",
       "        vertical-align: top;\n",
       "    }\n",
       "\n",
       "    .dataframe thead th {\n",
       "        text-align: right;\n",
       "    }\n",
       "</style>\n",
       "<table border=\"1\" class=\"dataframe\">\n",
       "  <thead>\n",
       "    <tr style=\"text-align: right;\">\n",
       "      <th></th>\n",
       "      <th>Type</th>\n",
       "      <th>Text</th>\n",
       "      <th>Length</th>\n",
       "    </tr>\n",
       "  </thead>\n",
       "  <tbody>\n",
       "    <tr>\n",
       "      <th>0</th>\n",
       "      <td>ham</td>\n",
       "      <td>Go until jurong point, crazy.. Available only ...</td>\n",
       "      <td>111</td>\n",
       "    </tr>\n",
       "    <tr>\n",
       "      <th>1</th>\n",
       "      <td>ham</td>\n",
       "      <td>Ok lar... Joking wif u oni...</td>\n",
       "      <td>29</td>\n",
       "    </tr>\n",
       "    <tr>\n",
       "      <th>2</th>\n",
       "      <td>spam</td>\n",
       "      <td>Free entry in 2 a wkly comp to win FA Cup fina...</td>\n",
       "      <td>155</td>\n",
       "    </tr>\n",
       "    <tr>\n",
       "      <th>3</th>\n",
       "      <td>ham</td>\n",
       "      <td>U dun say so early hor... U c already then say...</td>\n",
       "      <td>49</td>\n",
       "    </tr>\n",
       "    <tr>\n",
       "      <th>4</th>\n",
       "      <td>ham</td>\n",
       "      <td>Nah I don't think he goes to usf, he lives aro...</td>\n",
       "      <td>61</td>\n",
       "    </tr>\n",
       "  </tbody>\n",
       "</table>\n",
       "</div>"
      ],
      "text/plain": [
       "   Type                                               Text  Length\n",
       "0   ham  Go until jurong point, crazy.. Available only ...     111\n",
       "1   ham                      Ok lar... Joking wif u oni...      29\n",
       "2  spam  Free entry in 2 a wkly comp to win FA Cup fina...     155\n",
       "3   ham  U dun say so early hor... U c already then say...      49\n",
       "4   ham  Nah I don't think he goes to usf, he lives aro...      61"
      ]
     },
     "execution_count": 16,
     "metadata": {},
     "output_type": "execute_result"
    }
   ],
   "source": [
    "import pandas as pd\n",
    "df = pd.read_csv(\"D:\\hoctap\\MachineLearning-Project-II\\dataset\\spam.csv\", encoding='latin-1')\n",
    "\n",
    "df = df.drop(columns = {'Unnamed: 2', 'Unnamed: 3', 'Unnamed: 4'})\n",
    "\n",
    "df = df.rename(columns = {\"v1\":\"Type\", \"v2\":\"Text\"})\n",
    "\n",
    "df['Length'] = df['Text'].apply(len)\n",
    "\n",
    "df.head()\n"
   ]
  },
  {
   "cell_type": "code",
   "execution_count": 17,
   "metadata": {
    "colab": {
     "base_uri": "https://localhost:8080/",
     "height": 206
    },
    "id": "hptEIc4Uv74t",
    "outputId": "18dce291-b0fc-481e-d421-0a65df09f417"
   },
   "outputs": [
    {
     "data": {
      "text/html": [
       "<div>\n",
       "<style scoped>\n",
       "    .dataframe tbody tr th:only-of-type {\n",
       "        vertical-align: middle;\n",
       "    }\n",
       "\n",
       "    .dataframe tbody tr th {\n",
       "        vertical-align: top;\n",
       "    }\n",
       "\n",
       "    .dataframe thead th {\n",
       "        text-align: right;\n",
       "    }\n",
       "</style>\n",
       "<table border=\"1\" class=\"dataframe\">\n",
       "  <thead>\n",
       "    <tr style=\"text-align: right;\">\n",
       "      <th></th>\n",
       "      <th>Type</th>\n",
       "      <th>Text</th>\n",
       "      <th>Length</th>\n",
       "    </tr>\n",
       "  </thead>\n",
       "  <tbody>\n",
       "    <tr>\n",
       "      <th>0</th>\n",
       "      <td>0</td>\n",
       "      <td>Go until jurong point, crazy.. Available only ...</td>\n",
       "      <td>111</td>\n",
       "    </tr>\n",
       "    <tr>\n",
       "      <th>1</th>\n",
       "      <td>0</td>\n",
       "      <td>Ok lar... Joking wif u oni...</td>\n",
       "      <td>29</td>\n",
       "    </tr>\n",
       "    <tr>\n",
       "      <th>2</th>\n",
       "      <td>1</td>\n",
       "      <td>Free entry in 2 a wkly comp to win FA Cup fina...</td>\n",
       "      <td>155</td>\n",
       "    </tr>\n",
       "    <tr>\n",
       "      <th>3</th>\n",
       "      <td>0</td>\n",
       "      <td>U dun say so early hor... U c already then say...</td>\n",
       "      <td>49</td>\n",
       "    </tr>\n",
       "    <tr>\n",
       "      <th>4</th>\n",
       "      <td>0</td>\n",
       "      <td>Nah I don't think he goes to usf, he lives aro...</td>\n",
       "      <td>61</td>\n",
       "    </tr>\n",
       "  </tbody>\n",
       "</table>\n",
       "</div>"
      ],
      "text/plain": [
       "   Type                                               Text  Length\n",
       "0     0  Go until jurong point, crazy.. Available only ...     111\n",
       "1     0                      Ok lar... Joking wif u oni...      29\n",
       "2     1  Free entry in 2 a wkly comp to win FA Cup fina...     155\n",
       "3     0  U dun say so early hor... U c already then say...      49\n",
       "4     0  Nah I don't think he goes to usf, he lives aro...      61"
      ]
     },
     "execution_count": 17,
     "metadata": {},
     "output_type": "execute_result"
    }
   ],
   "source": [
    "df.loc[:, 'Type'] = df.Type.map({ 'spam' : 1, 'ham' : 0})\n",
    "\n",
    "df['Type'] = df['Type'].astype(int)\n",
    "df.head()"
   ]
  },
  {
   "cell_type": "code",
   "execution_count": 18,
   "metadata": {
    "colab": {
     "base_uri": "https://localhost:8080/"
    },
    "id": "1GjSLV8K1lI3",
    "outputId": "b45d29d0-e091-4f62-b292-02febd207f28"
   },
   "outputs": [
    {
     "name": "stderr",
     "output_type": "stream",
     "text": [
      "[nltk_data] Downloading package stopwords to\n",
      "[nltk_data]     C:\\Users\\Admin\\AppData\\Roaming\\nltk_data...\n",
      "[nltk_data]   Unzipping corpora\\stopwords.zip.\n"
     ]
    }
   ],
   "source": [
    "import re\n",
    "import nltk\n",
    "from nltk.corpus import stopwords\n",
    "from sklearn.model_selection import train_test_split\n",
    "from sklearn.feature_extraction.text import CountVectorizer\n",
    "\n",
    "nltk.download('stopwords')\n",
    "\n",
    "english_stopwords = set(stopwords.words('english'))\n",
    "text = df[\"Text\"].tolist()\n",
    "\n",
    "def process_text(text):\n",
    "  cleaned_corpus = []\n",
    "  for sent in text:\n",
    "    words = re.findall(r'\\b[a-zA-Z]{2,}\\b', sent.lower())\n",
    "    cleaned_corpus.append(' '.join([word for word in words if word not in english_stopwords]))\n",
    "  return cleaned_corpus\n",
    "\n",
    "\n",
    "\n",
    "X = process_text(text)\n",
    "y = df.Type\n",
    "\n",
    "\n",
    "X_train, X_test, y_train, y_test = train_test_split(X, y, test_size = 0.2, random_state=42)\n",
    "\n",
    "\n",
    "vec = CountVectorizer()\n",
    "\n",
    "X_train = vec.fit_transform(X_train)\n",
    "\n",
    "test_point = [\"Congratulations!! You 've won a free gift\"]\n",
    "test_point = process_text(test_point)\n",
    "test_point = vec.transform(test_point)\n",
    "\n",
    "X_test = vec.transform(X_test)\n",
    "\n",
    "test_point = [list(x) for x in test_point.toarray()]\n",
    "X_train = [list(x) for x in X_train.toarray()]\n",
    "X_test = [list(x) for x in X_test.toarray()]\n",
    "y_train = y_train.tolist()\n",
    "y_test = y_test.tolist()\n",
    "\n"
   ]
  },
  {
   "cell_type": "code",
   "execution_count": null,
   "metadata": {
    "colab": {
     "base_uri": "https://localhost:8080/"
    },
    "id": "zhpYhtChNlZy",
    "outputId": "47b2aa36-4094-46dd-bf7a-a3a4bbe54995"
   },
   "outputs": [
    {
     "name": "stdout",
     "output_type": "stream",
     "text": [
      "Accuracy: 0.9659192825112107\n"
     ]
    }
   ],
   "source": [
    "from sklearn.tree import DecisionTreeClassifier\n",
    "from sklearn import metrics\n",
    "\n",
    "tree = DecisionTreeClassifier1(max_depth = 20, min_samples_split= 2 )\n",
    "tree.train(X_train, y_train)\n",
    "y_pred = tree.predict(X_test)\n",
    "\n",
    "# y_pred = tree.predict(test_point)\n",
    "\n",
    "# if y_pred == 1:\n",
    "#   print(\"Spam\")\n",
    "# else:\n",
    "#   print(\"Not spam\")\n",
    "\n",
    "accuracy = metrics.accuracy_score(y_test, y_pred)\n",
    "print(f\"Accuracy: {accuracy}\")\n",
    "\n"
   ]
  },
  {
   "cell_type": "code",
   "execution_count": null,
   "metadata": {
    "colab": {
     "background_save": true
    },
    "id": "35T3OuRBUmaw",
    "outputId": "5ca14b97-1abf-426d-e0bc-5d5706537135"
   },
   "outputs": [],
   "source": [
    "from sklearn.metrics import accuracy_score\n",
    "k = 10\n",
    "knn_pred = []\n",
    "for i in range(len(X_test)):\n",
    "  prediction = knn_predict(X_train, y_train, X_test[i], k)\n",
    "  knn_pred.append(prediction)\n",
    "\n",
    "score2 = accuracy_score(y_test, knn_pred)\n",
    "score2"
   ]
  },
  {
   "cell_type": "code",
   "execution_count": 14,
   "metadata": {},
   "outputs": [
    {
     "name": "stdout",
     "output_type": "stream",
     "text": [
      "Naive Bayes Accuracy: 0.65\n"
     ]
    }
   ],
   "source": [
    "naive = NaiveBayesClassifier()\n",
    "naive.fit(X_train, y_train)\n",
    "naive_pred = naive.predict(X_test)\n",
    "naive_accuracy = accuracy_score(y_test, naive_pred)\n",
    "print(f\"Naive Bayes Accuracy: {naive_accuracy}\")\n"
   ]
  },
  {
   "cell_type": "markdown",
   "metadata": {
    "id": "skBSh22XGCqX"
   },
   "source": [
    "# Letter_recognition"
   ]
  },
  {
   "cell_type": "code",
   "execution_count": 1,
   "metadata": {
    "id": "wJjQz0jlvn6i"
   },
   "outputs": [
    {
     "data": {
      "image/png": "[encoded data removed]",
      "text/plain": [
       "<Figure size 1500x500 with 1 Axes>"
      ]
     },
     "metadata": {},
     "output_type": "display_data"
    }
   ],
   "source": [
    "import pandas as pd\n",
    "import numpy as np\n",
    "from sklearn.preprocessing import MinMaxScaler\n",
    "from sklearn.preprocessing import StandardScaler\n",
    "from sklearn.model_selection import train_test_split\n",
    "from matplotlib import pyplot as plt\n",
    "from sklearn.metrics import accuracy_score\n",
    "\n",
    "\n",
    "df = pd.read_csv(\"D:\\hoctap\\MachineLearning-Project-II\\dataset\\letter-recognition.csv\")\n",
    "\n",
    "\n",
    "scaler = MinMaxScaler()\n",
    "\n",
    "y = df.letter\n",
    "X = df.drop(columns=\"letter\")\n",
    "\n",
    "X_train, X_test, y_train, y_test = train_test_split(X, y, test_size = 200, random_state = 42)\n",
    "\n",
    "X_train = scaler.fit_transform(X_train)\n",
    "X_test = scaler.transform(X_test)\n",
    "X_train = X_train.tolist()\n",
    "X_test = X_test.tolist()\n",
    "y_train = y_train.tolist()\n",
    "y_test = y_test.tolist()\n",
    "unique, count = np.unique(y, return_counts = True)\n",
    "plt.figure(figsize=(15,5))\n",
    "plt.bar(unique, count, data = df.columns, color = 'blue')\n",
    "plt.xlabel('Class')\n",
    "plt.ylabel('Frequency')\n",
    "plt.show()\n",
    "\n",
    "\n",
    "\n",
    "\n",
    "\n",
    "\n"
   ]
  },
  {
   "cell_type": "code",
   "execution_count": 51,
   "metadata": {},
   "outputs": [
    {
     "name": "stdout",
     "output_type": "stream",
     "text": [
      "Multinomial Naive Bayes Accuracy: 0.65\n"
     ]
    }
   ],
   "source": [
    "from sklearn.naive_bayes import GaussianNB, MultinomialNB\n",
    "mnb = GaussianNB()\n",
    "mnb.fit(X_train, y_train)\n",
    "mnb_pred = mnb.predict(X_test)\n",
    "mnb_accuracy = accuracy_score(y_test, mnb_pred)\n",
    "print(f\"Multinomial Naive Bayes Accuracy: {mnb_accuracy}\")"
   ]
  },
  {
   "cell_type": "code",
   "execution_count": 34,
   "metadata": {},
   "outputs": [
    {
     "name": "stdout",
     "output_type": "stream",
     "text": [
      "Naive Bayes Accuracy: 0.65\n"
     ]
    }
   ],
   "source": [
    "naive = NaiveBayesClassifier()\n",
    "naive.fit(X_train, y_train)\n",
    "naive_pred = naive.predict(X_test)\n",
    "naive_accuracy = accuracy_score(y_test, naive_pred)\n",
    "print(f\"Naive Bayes Accuracy: {naive_accuracy}\")"
   ]
  },
  {
   "cell_type": "markdown",
   "metadata": {
    "id": "0WyT0OB9R5Nu"
   },
   "source": [
    "run by decision tree"
   ]
  },
  {
   "cell_type": "code",
   "execution_count": null,
   "metadata": {
    "id": "NmtR2jaDAFZk"
   },
   "outputs": [
    {
     "data": {
      "text/plain": [
       "0.905"
      ]
     },
     "execution_count": 18,
     "metadata": {},
     "output_type": "execute_result"
    }
   ],
   "source": [
    "from sklearn.metrics import accuracy_score\n",
    "tree = DecisionTreeClassifier1(max_depth = 50, min_samples_split=1)\n",
    "\n",
    "tree.train(X_train, y_train)\n",
    "\n",
    "dt_pred = tree.predict(X_test)\n",
    "score = accuracy_score(y_test, dt_pred)\n",
    "\n",
    "score\n"
   ]
  },
  {
   "cell_type": "code",
   "execution_count": 14,
   "metadata": {
    "colab": {
     "base_uri": "https://localhost:8080/",
     "height": 341
    },
    "id": "xoDh14o_GLD5",
    "outputId": "04c81041-8b44-4e4e-ad08-75724cc90437"
   },
   "outputs": [
    {
     "data": {
      "text/plain": [
       "0.965"
      ]
     },
     "execution_count": 14,
     "metadata": {},
     "output_type": "execute_result"
    }
   ],
   "source": [
    "k = 10\n",
    "knn_pred = []\n",
    "for i in range(len(X_test)):\n",
    "  prediction = knn_predict(X_train, y_train, X_test[i], k)\n",
    "  knn_pred.append(prediction)\n",
    "\n",
    "score1 = accuracy_score(y_test, knn_pred)\n",
    "score1"
   ]
  },
  {
   "cell_type": "code",
   "execution_count": 87,
   "metadata": {},
   "outputs": [
    {
     "name": "stderr",
     "output_type": "stream",
     "text": [
      "C:\\Users\\Admin\\AppData\\Local\\Temp\\ipykernel_17232\\137912068.py:13: FutureWarning: Downcasting object dtype arrays on .fillna, .ffill, .bfill is deprecated and will change in a future version. Call result.infer_objects(copy=False) instead. To opt-in to the future behavior, set `pd.set_option('future.no_silent_downcasting', True)`\n",
      "  personality_data[col] = personality_data[col].fillna(personality_data[col].mode()[0])\n"
     ]
    },
    {
     "name": "stdout",
     "output_type": "stream",
     "text": [
      "KNN Accuracy: 0.9224137931034483\n"
     ]
    }
   ],
   "source": [
    "from sklearn.metrics import accuracy_score\n",
    "\n",
    "personality_data = pd.read_csv(\"D:\\hoctap\\MachineLearning-Project-II\\dataset\\personality_dataset.csv\")\n",
    "\n",
    "personality_data.loc[:, 'Personality'] = personality_data.Personality.map({ 'Extrovert': 1, 'Introvert': 0})\n",
    "personality_data.loc[:,'Stage_fear'] = personality_data.Stage_fear.map({ 'Yes': 1, 'No': 0})\n",
    "personality_data.loc[:,'Drained_after_socializing'] = personality_data.Drained_after_socializing.map({ 'Yes': 1, 'No': 0})\n",
    "numerical_cols = ['Time_spent_Alone', 'Social_event_attendance', 'Going_outside', 'Friends_circle_size', 'Post_frequency']\n",
    "categorical_cols = ['Stage_fear', 'Drained_after_socializing']\n",
    "for col in numerical_cols:\n",
    "    personality_data[col] = personality_data[col].fillna(personality_data[col].median())\n",
    "for col in categorical_cols:\n",
    "    personality_data[col] = personality_data[col].fillna(personality_data[col].mode()[0])\n",
    "\n",
    "Xper = personality_data[numerical_cols + categorical_cols].round().astype(int).values\n",
    "yper = personality_data['Personality'].values\n",
    "Xper_train, Xper_test, yper_train, yper_test = train_test_split(Xper, yper, test_size=0.2, random_state=42)\n",
    "\n",
    "\n",
    "k =  10\n",
    "knn_pred = []\n",
    "for i in range(len(Xper_test)):\n",
    "  prediction = knn_predict(Xper_train, yper_train, Xper_test[i], k)\n",
    "  knn_pred.append(prediction)\n",
    "score1 = accuracy_score(list(map(int, yper_test)), list(map(int, knn_pred)))\n",
    "print(f\"KNN Accuracy: {score1}\")\n",
    "\n",
    "\n",
    "\n"
   ]
  },
  {
   "cell_type": "markdown",
   "metadata": {
    "id": "ynKDu07QIbIa"
   },
   "source": []
  }
 ],
 "metadata": {
  "colab": {
   "include_colab_link": true,
   "provenance": []
  },
  "kernelspec": {
   "display_name": "Python 3",
   "name": "python3"
  },
  "language_info": {
   "codemirror_mode": {
    "name": "ipython",
    "version": 3
   },
   "file_extension": ".py",
   "mimetype": "text/x-python",
   "name": "python",
   "nbconvert_exporter": "python",
   "pygments_lexer": "ipython3",
   "version": "3.11.9"
  }
 },
 "nbformat": 4,
 "nbformat_minor": 0
}
